{
 "cells": [
  {
   "cell_type": "markdown",
   "id": "6d5922c3",
   "metadata": {},
   "source": [
    "## The Urn Model"
   ]
  },
  {
   "cell_type": "markdown",
   "id": "e8c48c3f",
   "metadata": {},
   "source": [
    "Was developed was Jacob Bernoulli to model the process of selecting items from a population.\n",
    "\n",
    "To set up an urn model, we first need to decide on: \n",
    "    \n",
    "- The number of marbles in the urn\n",
    "- The color (or label) on each marble\n",
    "- The number of marbles to darw from the urn\n",
    "- The drawing / sampling process (with replacement or without replacement)"
   ]
  },
  {
   "cell_type": "markdown",
   "id": "214a57a1",
   "metadata": {},
   "source": [
    "We can simulate the draw of two marbles from the urn without replacement."
   ]
  },
  {
   "cell_type": "code",
   "execution_count": 35,
   "id": "eb803318",
   "metadata": {},
   "outputs": [
    {
     "name": "stdout",
     "output_type": "stream",
     "text": [
      "Sample 1:  ['b' 'b']\n",
      "Sample 2:  ['w' 'b']\n"
     ]
    }
   ],
   "source": [
    "import numpy as np\n",
    "import pandas as pd\n",
    "urn = [\"b\",\"b\",\"b\",\"w\",\"w\"]\n",
    "\n",
    "print(\"Sample 1: \",np.random.choice(urn, size=2, replace=False))\n",
    "print(\"Sample 2: \", np.random.choice(urn, size = 2, replace=False))"
   ]
  },
  {
   "cell_type": "markdown",
   "id": "11b1be97",
   "metadata": {},
   "source": [
    "#### Questions: "
   ]
  },
  {
   "cell_type": "markdown",
   "id": "94ab3230",
   "metadata": {},
   "source": [
    "- What is the chance that our sample contais marbles of only one color ?\n",
    "- Does the chance change if we return each marble after slecting it ?\n",
    "- What if we changed the number of marbles in the urn ?\n",
    "- What if we draw more marbles from the urn ?\n",
    "- What if we repat the process many times ?"
   ]
  },
  {
   "cell_type": "markdown",
   "id": "d00fbc13",
   "metadata": {},
   "source": [
    "This way of simulation can be easily applicable to the real world problems easily. "
   ]
  },
  {
   "cell_type": "markdown",
   "id": "277159b0",
   "metadata": {},
   "source": [
    "For example, we can use simulation to easily estimate the fraction of samples where both marbles that we draw match in color."
   ]
  },
  {
   "cell_type": "code",
   "execution_count": 12,
   "id": "88a7f4c7",
   "metadata": {},
   "outputs": [
    {
     "name": "stdout",
     "output_type": "stream",
     "text": [
      "Proportion of samples with matching marbles : 0.4004\n"
     ]
    }
   ],
   "source": [
    "n = 10000\n",
    "samples = [np.random.choice(urn, size=2, replace=False) for _ in range(n)]\n",
    "is_matching = [marble1 == marble2 for marble1, marble2 in samples]\n",
    "\n",
    "print(f\"Proportion of samples with matching marbles : {np.mean(is_matching)}\")"
   ]
  },
  {
   "cell_type": "markdown",
   "id": "6a0d287b",
   "metadata": {},
   "source": [
    "The urn model, where we draw samples without replacement is what is known as the simple random sampling."
   ]
  },
  {
   "cell_type": "code",
   "execution_count": 15,
   "id": "cc38d820",
   "metadata": {},
   "outputs": [
    {
     "name": "stdout",
     "output_type": "stream",
     "text": [
      "['ABC', 'ABD', 'ABE', 'ABF', 'ABG', 'ACD', 'ACE', 'ACF', 'ACG', 'ADE', 'ADF', 'ADG', 'AEF', 'AEG', 'AFG', 'BCD', 'BCE', 'BCF', 'BCG', 'BDE', 'BDF', 'BDG', 'BEF', 'BEG', 'BFG', 'CDE', 'CDF', 'CDG', 'CEF', 'CEG', 'CFG', 'DEF', 'DEG', 'DFG', 'EFG']\n",
      "Number of samples: 35\n"
     ]
    }
   ],
   "source": [
    "from itertools import combinations, permutations\n",
    "\n",
    "all_samples = [\"\".join(sample) for sample in combinations(\"ABCDEFG\",3)]\n",
    "print(all_samples)\n",
    "\n",
    "print(\"Number of samples:\", len(all_samples))"
   ]
  },
  {
   "cell_type": "code",
   "execution_count": 16,
   "id": "2d74f862",
   "metadata": {},
   "outputs": [
    {
     "name": "stdout",
     "output_type": "stream",
     "text": [
      "['ABC', 'ACB', 'BAC', 'BCA', 'CAB', 'CBA']\n"
     ]
    }
   ],
   "source": [
    "print([\"\".join(sample) for sample in permutations(\"ABC\")])"
   ]
  },
  {
   "cell_type": "markdown",
   "id": "33613898",
   "metadata": {},
   "source": [
    "## Sampling Distribution\n",
    "\n",
    "For any sample, we can calculate the statistic of the distribution."
   ]
  },
  {
   "cell_type": "markdown",
   "id": "a9adf471",
   "metadata": {},
   "source": [
    "Using an example: \n",
    "    \n",
    "To find the sampling distribution of the proportion of failures in a simple random sample of 3 fuel tanks as an urn model.\n",
    "\n",
    "We use 1 to indicate a failure and 0 to indicate a pass."
   ]
  },
  {
   "cell_type": "code",
   "execution_count": 42,
   "id": "319d1355",
   "metadata": {},
   "outputs": [
    {
     "name": "stdout",
     "output_type": "stream",
     "text": [
      "Sample: [1 1 1]\n",
      "Prop failures : 1.0\n"
     ]
    }
   ],
   "source": [
    "urn = [1, 1, 0, 1,0, 1, 0]\n",
    "\n",
    "\n",
    "sample = np.random.choice(urn, size=3, replace=False)\n",
    "print(f\"Sample: {sample}\")\n",
    "print(f\"Prop failures : {sample.mean()}\")"
   ]
  },
  {
   "cell_type": "code",
   "execution_count": 43,
   "id": "722709ad",
   "metadata": {},
   "outputs": [
    {
     "data": {
      "text/plain": [
       "array([1, 1, 1])"
      ]
     },
     "execution_count": 43,
     "metadata": {},
     "output_type": "execute_result"
    }
   ],
   "source": [
    "sample"
   ]
  },
  {
   "cell_type": "markdown",
   "id": "15c24e88",
   "metadata": {},
   "source": [
    "We can now try simulating the process of sampling 10,000 times so that we can now have 10,000 proportions."
   ]
  },
  {
   "cell_type": "code",
   "execution_count": 54,
   "id": "3c97282b",
   "metadata": {},
   "outputs": [
    {
     "data": {
      "text/html": [
       "<div>\n",
       "<style scoped>\n",
       "    .dataframe tbody tr th:only-of-type {\n",
       "        vertical-align: middle;\n",
       "    }\n",
       "\n",
       "    .dataframe tbody tr th {\n",
       "        vertical-align: top;\n",
       "    }\n",
       "\n",
       "    .dataframe thead th {\n",
       "        text-align: right;\n",
       "    }\n",
       "</style>\n",
       "<table border=\"1\" class=\"dataframe\">\n",
       "  <thead>\n",
       "    <tr style=\"text-align: right;\">\n",
       "      <th></th>\n",
       "      <th>Proportion of failures</th>\n",
       "      <th>Fraction of sample</th>\n",
       "    </tr>\n",
       "  </thead>\n",
       "  <tbody>\n",
       "    <tr>\n",
       "      <th>0</th>\n",
       "      <td>0.000000</td>\n",
       "      <td>0.0285</td>\n",
       "    </tr>\n",
       "    <tr>\n",
       "      <th>1</th>\n",
       "      <td>0.333333</td>\n",
       "      <td>0.3460</td>\n",
       "    </tr>\n",
       "    <tr>\n",
       "      <th>2</th>\n",
       "      <td>0.666667</td>\n",
       "      <td>0.5125</td>\n",
       "    </tr>\n",
       "    <tr>\n",
       "      <th>3</th>\n",
       "      <td>1.000000</td>\n",
       "      <td>0.1130</td>\n",
       "    </tr>\n",
       "  </tbody>\n",
       "</table>\n",
       "</div>"
      ],
      "text/plain": [
       "   Proportion of failures  Fraction of sample\n",
       "0                0.000000              0.0285\n",
       "1                0.333333              0.3460\n",
       "2                0.666667              0.5125\n",
       "3                1.000000              0.1130"
      ]
     },
     "execution_count": 54,
     "metadata": {},
     "output_type": "execute_result"
    }
   ],
   "source": [
    "n = 10000\n",
    "samples = [np.random.choice(urn, size=3, replace=False) for _ in range(n)]\n",
    "prop_failures = [s.mean() for s in samples]\n",
    "\n",
    "unique_els, counts_els = np.unique(prop_failures, return_counts=True)\n",
    "pd.DataFrame({\n",
    "    \"Proportion of failures\": unique_els,\n",
    "    \"Fraction of sample\": counts_els/10000\n",
    "})"
   ]
  },
  {
   "cell_type": "markdown",
   "id": "99b678c0",
   "metadata": {},
   "source": [
    "Drawing marbles from an urn with 0's and 1's has been given a formal name known as hypergeometric distribution."
   ]
  },
  {
   "cell_type": "markdown",
   "id": "f4d23571",
   "metadata": {},
   "source": [
    "#### Simulation using the Hypergeometric Distribution"
   ]
  },
  {
   "cell_type": "code",
   "execution_count": 55,
   "id": "f870e991",
   "metadata": {},
   "outputs": [
    {
     "name": "stdout",
     "output_type": "stream",
     "text": [
      "[0 1 1 ... 1 2 1]\n"
     ]
    }
   ],
   "source": [
    "simul_hyper = np.random.hypergeometric(ngood = 4, nbad = 3, nsample=3, size=10000)\n",
    "print(simul_hyper)"
   ]
  },
  {
   "cell_type": "code",
   "execution_count": 58,
   "id": "bcce8933",
   "metadata": {},
   "outputs": [
    {
     "data": {
      "text/html": [
       "<div>\n",
       "<style scoped>\n",
       "    .dataframe tbody tr th:only-of-type {\n",
       "        vertical-align: middle;\n",
       "    }\n",
       "\n",
       "    .dataframe tbody tr th {\n",
       "        vertical-align: top;\n",
       "    }\n",
       "\n",
       "    .dataframe thead th {\n",
       "        text-align: right;\n",
       "    }\n",
       "</style>\n",
       "<table border=\"1\" class=\"dataframe\">\n",
       "  <thead>\n",
       "    <tr style=\"text-align: right;\">\n",
       "      <th></th>\n",
       "      <th>Number of failures</th>\n",
       "      <th>Fraction of samples</th>\n",
       "      <th>Proportion of samples</th>\n",
       "    </tr>\n",
       "  </thead>\n",
       "  <tbody>\n",
       "    <tr>\n",
       "      <th>0</th>\n",
       "      <td>0</td>\n",
       "      <td>276</td>\n",
       "      <td>0.0276</td>\n",
       "    </tr>\n",
       "    <tr>\n",
       "      <th>1</th>\n",
       "      <td>1</td>\n",
       "      <td>3417</td>\n",
       "      <td>0.3417</td>\n",
       "    </tr>\n",
       "    <tr>\n",
       "      <th>2</th>\n",
       "      <td>2</td>\n",
       "      <td>5129</td>\n",
       "      <td>0.5129</td>\n",
       "    </tr>\n",
       "    <tr>\n",
       "      <th>3</th>\n",
       "      <td>3</td>\n",
       "      <td>1178</td>\n",
       "      <td>0.1178</td>\n",
       "    </tr>\n",
       "  </tbody>\n",
       "</table>\n",
       "</div>"
      ],
      "text/plain": [
       "   Number of failures  Fraction of samples  Proportion of samples\n",
       "0                   0                  276                 0.0276\n",
       "1                   1                 3417                 0.3417\n",
       "2                   2                 5129                 0.5129\n",
       "3                   3                 1178                 0.1178"
      ]
     },
     "execution_count": 58,
     "metadata": {},
     "output_type": "execute_result"
    }
   ],
   "source": [
    "unique_els, counts_els =  np.unique(simul_hyper, return_counts=True)\n",
    "pd.DataFrame({\n",
    "    \"Number of failures\": unique_els,\n",
    "    \"Fraction of samples\": counts_els,\n",
    "    \"Proportion of samples\": counts_els/10000\n",
    "})"
   ]
  },
  {
   "cell_type": "markdown",
   "id": "bae9a47e",
   "metadata": {},
   "source": [
    "The most common chance processes are those that arise from counting the number of 1's drawn from 0 -1 urn: drawing \n",
    "without replacement is the hypergeometric distribution and drwaing with replacement is the **binomial distribution**."
   ]
  },
  {
   "cell_type": "markdown",
   "id": "621766e4",
   "metadata": {},
   "source": [
    "### Simulating election bias and variance"
   ]
  },
  {
   "cell_type": "markdown",
   "id": "a6a67894",
   "metadata": {},
   "source": [
    "The urn has 6165478 marbles to represent the number of voters. We draw 1500 marbles from the urn to represent the size of the polls.\n",
    "\n",
    "We tally the votes from Trump, Clinton and any other candidates. From the tally, we can compute Trump's lead over Clintons.\n"
   ]
  },
  {
   "cell_type": "code",
   "execution_count": 65,
   "id": "1d0c90a4",
   "metadata": {},
   "outputs": [
    {
     "name": "stdout",
     "output_type": "stream",
     "text": [
      "[2970527 2907639  287311]\n"
     ]
    }
   ],
   "source": [
    "proportions = np.array([0.4818, 0.4716, 1-(0.4818 + 0.4716)])\n",
    "n = 1500\n",
    "N = 6165478\n",
    "\n",
    "votes = np.trunc(N * proportions).astype(int)\n",
    "print(votes)"
   ]
  },
  {
   "cell_type": "markdown",
   "id": "d1830419",
   "metadata": {},
   "source": [
    "This type of urn has three types of marbles in it rather than the usual two marbles, its called **multivariate hypergeometric distribution**."
   ]
  },
  {
   "cell_type": "code",
   "execution_count": 70,
   "id": "3f7c953b",
   "metadata": {},
   "outputs": [
    {
     "data": {
      "text/plain": [
       "array([746, 671,  83])"
      ]
     },
     "execution_count": 70,
     "metadata": {},
     "output_type": "execute_result"
    }
   ],
   "source": [
    "from scipy.stats import multivariate_hypergeom\n",
    "\n",
    "multivariate_hypergeom.rvs(votes, n)"
   ]
  },
  {
   "cell_type": "markdown",
   "id": "972140f0",
   "metadata": {},
   "source": [
    "Now we need to compute Trump's lead for each sample:  $$\\frac {(n_T - n_C)}{n}$$"
   ]
  },
  {
   "cell_type": "markdown",
   "id": "4209991c",
   "metadata": {},
   "source": [
    "Where $n_T$ is the number of Trumps votes from the sample, $n_C$ is the number of Hillry's votes from the sample and $n$ is the\n",
    "total number of votes in the sample."
   ]
  },
  {
   "cell_type": "code",
   "execution_count": null,
   "id": "2bafc88e",
   "metadata": {},
   "outputs": [],
   "source": []
  },
  {
   "cell_type": "code",
   "execution_count": null,
   "id": "5efc85e1",
   "metadata": {},
   "outputs": [],
   "source": []
  },
  {
   "cell_type": "code",
   "execution_count": null,
   "id": "d3cc892d",
   "metadata": {},
   "outputs": [],
   "source": []
  },
  {
   "cell_type": "code",
   "execution_count": null,
   "id": "c2db30e3",
   "metadata": {},
   "outputs": [],
   "source": []
  },
  {
   "cell_type": "code",
   "execution_count": null,
   "id": "c8f1f192",
   "metadata": {},
   "outputs": [],
   "source": []
  },
  {
   "cell_type": "code",
   "execution_count": null,
   "id": "3d606232",
   "metadata": {},
   "outputs": [],
   "source": []
  },
  {
   "cell_type": "code",
   "execution_count": null,
   "id": "3dd09bf2",
   "metadata": {},
   "outputs": [],
   "source": []
  },
  {
   "cell_type": "code",
   "execution_count": null,
   "id": "80986cae",
   "metadata": {},
   "outputs": [],
   "source": []
  },
  {
   "cell_type": "code",
   "execution_count": null,
   "id": "b61a723f",
   "metadata": {},
   "outputs": [],
   "source": []
  },
  {
   "cell_type": "code",
   "execution_count": null,
   "id": "6554cfe0",
   "metadata": {},
   "outputs": [],
   "source": []
  },
  {
   "cell_type": "code",
   "execution_count": null,
   "id": "947876f8",
   "metadata": {},
   "outputs": [],
   "source": []
  },
  {
   "cell_type": "code",
   "execution_count": null,
   "id": "bdd827b9",
   "metadata": {},
   "outputs": [],
   "source": []
  },
  {
   "cell_type": "code",
   "execution_count": null,
   "id": "eb24cbdb",
   "metadata": {},
   "outputs": [],
   "source": []
  },
  {
   "cell_type": "code",
   "execution_count": null,
   "id": "9e109a68",
   "metadata": {},
   "outputs": [],
   "source": []
  },
  {
   "cell_type": "code",
   "execution_count": null,
   "id": "2095bf4b",
   "metadata": {},
   "outputs": [],
   "source": []
  },
  {
   "cell_type": "code",
   "execution_count": null,
   "id": "def25f93",
   "metadata": {},
   "outputs": [],
   "source": []
  },
  {
   "cell_type": "code",
   "execution_count": null,
   "id": "8d7d5857",
   "metadata": {},
   "outputs": [],
   "source": []
  },
  {
   "cell_type": "code",
   "execution_count": null,
   "id": "81bcffdb",
   "metadata": {},
   "outputs": [],
   "source": []
  },
  {
   "cell_type": "code",
   "execution_count": null,
   "id": "6b74b47e",
   "metadata": {},
   "outputs": [],
   "source": []
  },
  {
   "cell_type": "code",
   "execution_count": null,
   "id": "707e48bf",
   "metadata": {},
   "outputs": [],
   "source": []
  },
  {
   "cell_type": "code",
   "execution_count": null,
   "id": "f15239bb",
   "metadata": {},
   "outputs": [],
   "source": []
  },
  {
   "cell_type": "code",
   "execution_count": null,
   "id": "71829746",
   "metadata": {},
   "outputs": [],
   "source": []
  },
  {
   "cell_type": "code",
   "execution_count": null,
   "id": "cd4e0136",
   "metadata": {},
   "outputs": [],
   "source": []
  },
  {
   "cell_type": "code",
   "execution_count": null,
   "id": "24ee37eb",
   "metadata": {},
   "outputs": [],
   "source": []
  },
  {
   "cell_type": "code",
   "execution_count": null,
   "id": "3aba6899",
   "metadata": {},
   "outputs": [],
   "source": []
  },
  {
   "cell_type": "code",
   "execution_count": null,
   "id": "d5652db1",
   "metadata": {},
   "outputs": [],
   "source": []
  },
  {
   "cell_type": "code",
   "execution_count": null,
   "id": "95216d36",
   "metadata": {},
   "outputs": [],
   "source": []
  }
 ],
 "metadata": {
  "kernelspec": {
   "display_name": "Python 3 (ipykernel)",
   "language": "python",
   "name": "python3"
  },
  "language_info": {
   "codemirror_mode": {
    "name": "ipython",
    "version": 3
   },
   "file_extension": ".py",
   "mimetype": "text/x-python",
   "name": "python",
   "nbconvert_exporter": "python",
   "pygments_lexer": "ipython3",
   "version": "3.11.5"
  }
 },
 "nbformat": 4,
 "nbformat_minor": 5
}
