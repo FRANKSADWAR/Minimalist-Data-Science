{
 "cells": [
  {
   "cell_type": "markdown",
   "id": "3683ea79",
   "metadata": {},
   "source": [
    "## Why is my bus always late ? "
   ]
  },
  {
   "cell_type": "code",
   "execution_count": 9,
   "id": "5847a9c9",
   "metadata": {},
   "outputs": [],
   "source": [
    "import pandas as pd\n",
    "import numpy as np\n",
    "import seaborn as sns\n",
    "import matplotlib.pyplot as plt\n",
    "from datetime import datetime"
   ]
  },
  {
   "cell_type": "code",
   "execution_count": 2,
   "id": "0384a2d7",
   "metadata": {},
   "outputs": [],
   "source": [
    "bus_times = pd.read_csv('data/seattle_bus_times_NC.txt')"
   ]
  },
  {
   "cell_type": "code",
   "execution_count": 25,
   "id": "bd39819a",
   "metadata": {
    "scrolled": true
   },
   "outputs": [
    {
     "data": {
      "text/html": [
       "<div>\n",
       "<style scoped>\n",
       "    .dataframe tbody tr th:only-of-type {\n",
       "        vertical-align: middle;\n",
       "    }\n",
       "\n",
       "    .dataframe tbody tr th {\n",
       "        vertical-align: top;\n",
       "    }\n",
       "\n",
       "    .dataframe thead th {\n",
       "        text-align: right;\n",
       "    }\n",
       "</style>\n",
       "<table border=\"1\" class=\"dataframe\">\n",
       "  <thead>\n",
       "    <tr style=\"text-align: right;\">\n",
       "      <th></th>\n",
       "      <th>route</th>\n",
       "      <th>direction</th>\n",
       "      <th>scheduled</th>\n",
       "      <th>actual</th>\n",
       "      <th>minutes_late</th>\n",
       "      <th>day_of_week</th>\n",
       "      <th>time_of_day</th>\n",
       "      <th>am_pm</th>\n",
       "    </tr>\n",
       "  </thead>\n",
       "  <tbody>\n",
       "    <tr>\n",
       "      <th>0</th>\n",
       "      <td>C</td>\n",
       "      <td>2016-03-26 06:30:28</td>\n",
       "      <td>2016-03-26 06:30:28</td>\n",
       "      <td>2016-03-26 06:26:04</td>\n",
       "      <td>-4.400000</td>\n",
       "      <td>Saturday</td>\n",
       "      <td>06</td>\n",
       "      <td>AM</td>\n",
       "    </tr>\n",
       "    <tr>\n",
       "      <th>1</th>\n",
       "      <td>C</td>\n",
       "      <td>2016-03-26 01:05:25</td>\n",
       "      <td>2016-03-26 01:05:25</td>\n",
       "      <td>2016-03-26 01:10:15</td>\n",
       "      <td>4.833333</td>\n",
       "      <td>Saturday</td>\n",
       "      <td>01</td>\n",
       "      <td>AM</td>\n",
       "    </tr>\n",
       "    <tr>\n",
       "      <th>2</th>\n",
       "      <td>C</td>\n",
       "      <td>2016-03-26 21:00:25</td>\n",
       "      <td>2016-03-26 21:00:25</td>\n",
       "      <td>2016-03-26 21:05:00</td>\n",
       "      <td>4.583333</td>\n",
       "      <td>Saturday</td>\n",
       "      <td>21</td>\n",
       "      <td>PM</td>\n",
       "    </tr>\n",
       "    <tr>\n",
       "      <th>3</th>\n",
       "      <td>C</td>\n",
       "      <td>2016-03-26 22:30:25</td>\n",
       "      <td>2016-03-26 22:30:25</td>\n",
       "      <td>2016-03-26 22:34:28</td>\n",
       "      <td>4.050000</td>\n",
       "      <td>Saturday</td>\n",
       "      <td>22</td>\n",
       "      <td>PM</td>\n",
       "    </tr>\n",
       "    <tr>\n",
       "      <th>4</th>\n",
       "      <td>C</td>\n",
       "      <td>2016-03-26 20:15:25</td>\n",
       "      <td>2016-03-26 20:15:25</td>\n",
       "      <td>2016-03-26 20:23:39</td>\n",
       "      <td>8.233333</td>\n",
       "      <td>Saturday</td>\n",
       "      <td>20</td>\n",
       "      <td>PM</td>\n",
       "    </tr>\n",
       "  </tbody>\n",
       "</table>\n",
       "</div>"
      ],
      "text/plain": [
       "  route           direction            scheduled              actual  \\\n",
       "0     C 2016-03-26 06:30:28  2016-03-26 06:30:28 2016-03-26 06:26:04   \n",
       "1     C 2016-03-26 01:05:25  2016-03-26 01:05:25 2016-03-26 01:10:15   \n",
       "2     C 2016-03-26 21:00:25  2016-03-26 21:00:25 2016-03-26 21:05:00   \n",
       "3     C 2016-03-26 22:30:25  2016-03-26 22:30:25 2016-03-26 22:34:28   \n",
       "4     C 2016-03-26 20:15:25  2016-03-26 20:15:25 2016-03-26 20:23:39   \n",
       "\n",
       "   minutes_late day_of_week time_of_day am_pm  \n",
       "0     -4.400000    Saturday          06    AM  \n",
       "1      4.833333    Saturday          01    AM  \n",
       "2      4.583333    Saturday          21    PM  \n",
       "3      4.050000    Saturday          22    PM  \n",
       "4      8.233333    Saturday          20    PM  "
      ]
     },
     "execution_count": 25,
     "metadata": {},
     "output_type": "execute_result"
    }
   ],
   "source": [
    "bus_times.head()"
   ]
  },
  {
   "cell_type": "markdown",
   "id": "f86ca620",
   "metadata": {},
   "source": [
    "1. Group by time of day and find the counts\n",
    "2. Group by the route and find the counts\n",
    "3. Group by the direction and plot a graph of direction counts\n",
    "4. Find the most late direction\n",
    "5. Find the most late route\n",
    "6. Find the day that has the most latest times"
   ]
  },
  {
   "cell_type": "code",
   "execution_count": 7,
   "id": "cb5519c7",
   "metadata": {},
   "outputs": [],
   "source": [
    "bus_times['direction'] = pd.to_datetime(bus_times['scheduled'])\n",
    "bus_times['actual'] = pd.to_datetime(bus_times['actual'])"
   ]
  },
  {
   "cell_type": "code",
   "execution_count": 18,
   "id": "118bfd77",
   "metadata": {},
   "outputs": [],
   "source": [
    "bus_times['day_of_week'] = pd.to_datetime(bus_times['actual']).dt.strftime('%A')"
   ]
  },
  {
   "cell_type": "code",
   "execution_count": 20,
   "id": "d56427e5",
   "metadata": {},
   "outputs": [],
   "source": [
    "bus_times['time_of_day'] = pd.to_datetime(bus_times['actual']).dt.strftime('%H')"
   ]
  },
  {
   "cell_type": "code",
   "execution_count": 23,
   "id": "31765daf",
   "metadata": {},
   "outputs": [],
   "source": [
    "bus_times['am_pm'] = pd.to_datetime(bus_times['actual']).dt.strftime('%p')"
   ]
  },
  {
   "cell_type": "code",
   "execution_count": 24,
   "id": "a8526fd0",
   "metadata": {},
   "outputs": [
    {
     "data": {
      "text/html": [
       "<div>\n",
       "<style scoped>\n",
       "    .dataframe tbody tr th:only-of-type {\n",
       "        vertical-align: middle;\n",
       "    }\n",
       "\n",
       "    .dataframe tbody tr th {\n",
       "        vertical-align: top;\n",
       "    }\n",
       "\n",
       "    .dataframe thead th {\n",
       "        text-align: right;\n",
       "    }\n",
       "</style>\n",
       "<table border=\"1\" class=\"dataframe\">\n",
       "  <thead>\n",
       "    <tr style=\"text-align: right;\">\n",
       "      <th></th>\n",
       "      <th>route</th>\n",
       "      <th>direction</th>\n",
       "      <th>scheduled</th>\n",
       "      <th>actual</th>\n",
       "      <th>minutes_late</th>\n",
       "      <th>day_of_week</th>\n",
       "      <th>time_of_day</th>\n",
       "      <th>am_pm</th>\n",
       "    </tr>\n",
       "  </thead>\n",
       "  <tbody>\n",
       "    <tr>\n",
       "      <th>0</th>\n",
       "      <td>C</td>\n",
       "      <td>2016-03-26 06:30:28</td>\n",
       "      <td>2016-03-26 06:30:28</td>\n",
       "      <td>2016-03-26 06:26:04</td>\n",
       "      <td>-4.400000</td>\n",
       "      <td>Saturday</td>\n",
       "      <td>06</td>\n",
       "      <td>AM</td>\n",
       "    </tr>\n",
       "    <tr>\n",
       "      <th>1</th>\n",
       "      <td>C</td>\n",
       "      <td>2016-03-26 01:05:25</td>\n",
       "      <td>2016-03-26 01:05:25</td>\n",
       "      <td>2016-03-26 01:10:15</td>\n",
       "      <td>4.833333</td>\n",
       "      <td>Saturday</td>\n",
       "      <td>01</td>\n",
       "      <td>AM</td>\n",
       "    </tr>\n",
       "    <tr>\n",
       "      <th>2</th>\n",
       "      <td>C</td>\n",
       "      <td>2016-03-26 21:00:25</td>\n",
       "      <td>2016-03-26 21:00:25</td>\n",
       "      <td>2016-03-26 21:05:00</td>\n",
       "      <td>4.583333</td>\n",
       "      <td>Saturday</td>\n",
       "      <td>21</td>\n",
       "      <td>PM</td>\n",
       "    </tr>\n",
       "    <tr>\n",
       "      <th>3</th>\n",
       "      <td>C</td>\n",
       "      <td>2016-03-26 22:30:25</td>\n",
       "      <td>2016-03-26 22:30:25</td>\n",
       "      <td>2016-03-26 22:34:28</td>\n",
       "      <td>4.050000</td>\n",
       "      <td>Saturday</td>\n",
       "      <td>22</td>\n",
       "      <td>PM</td>\n",
       "    </tr>\n",
       "    <tr>\n",
       "      <th>4</th>\n",
       "      <td>C</td>\n",
       "      <td>2016-03-26 20:15:25</td>\n",
       "      <td>2016-03-26 20:15:25</td>\n",
       "      <td>2016-03-26 20:23:39</td>\n",
       "      <td>8.233333</td>\n",
       "      <td>Saturday</td>\n",
       "      <td>20</td>\n",
       "      <td>PM</td>\n",
       "    </tr>\n",
       "    <tr>\n",
       "      <th>...</th>\n",
       "      <td>...</td>\n",
       "      <td>...</td>\n",
       "      <td>...</td>\n",
       "      <td>...</td>\n",
       "      <td>...</td>\n",
       "      <td>...</td>\n",
       "      <td>...</td>\n",
       "      <td>...</td>\n",
       "    </tr>\n",
       "    <tr>\n",
       "      <th>1429</th>\n",
       "      <td>C</td>\n",
       "      <td>2016-04-10 13:15:28</td>\n",
       "      <td>2016-04-10 13:15:28</td>\n",
       "      <td>2016-04-10 13:11:36</td>\n",
       "      <td>-3.866667</td>\n",
       "      <td>Sunday</td>\n",
       "      <td>13</td>\n",
       "      <td>PM</td>\n",
       "    </tr>\n",
       "    <tr>\n",
       "      <th>1430</th>\n",
       "      <td>C</td>\n",
       "      <td>2016-04-10 10:45:28</td>\n",
       "      <td>2016-04-10 10:45:28</td>\n",
       "      <td>2016-04-10 10:40:56</td>\n",
       "      <td>-4.533333</td>\n",
       "      <td>Sunday</td>\n",
       "      <td>10</td>\n",
       "      <td>AM</td>\n",
       "    </tr>\n",
       "    <tr>\n",
       "      <th>1431</th>\n",
       "      <td>C</td>\n",
       "      <td>2016-04-10 06:15:28</td>\n",
       "      <td>2016-04-10 06:15:28</td>\n",
       "      <td>2016-04-10 06:11:37</td>\n",
       "      <td>-3.850000</td>\n",
       "      <td>Sunday</td>\n",
       "      <td>06</td>\n",
       "      <td>AM</td>\n",
       "    </tr>\n",
       "    <tr>\n",
       "      <th>1432</th>\n",
       "      <td>C</td>\n",
       "      <td>2016-04-10 17:00:28</td>\n",
       "      <td>2016-04-10 17:00:28</td>\n",
       "      <td>2016-04-10 16:56:54</td>\n",
       "      <td>-3.566667</td>\n",
       "      <td>Sunday</td>\n",
       "      <td>16</td>\n",
       "      <td>PM</td>\n",
       "    </tr>\n",
       "    <tr>\n",
       "      <th>1433</th>\n",
       "      <td>C</td>\n",
       "      <td>2016-04-10 20:15:25</td>\n",
       "      <td>2016-04-10 20:15:25</td>\n",
       "      <td>2016-04-10 20:18:21</td>\n",
       "      <td>2.933333</td>\n",
       "      <td>Sunday</td>\n",
       "      <td>20</td>\n",
       "      <td>PM</td>\n",
       "    </tr>\n",
       "  </tbody>\n",
       "</table>\n",
       "<p>1434 rows × 8 columns</p>\n",
       "</div>"
      ],
      "text/plain": [
       "     route           direction            scheduled              actual  \\\n",
       "0        C 2016-03-26 06:30:28  2016-03-26 06:30:28 2016-03-26 06:26:04   \n",
       "1        C 2016-03-26 01:05:25  2016-03-26 01:05:25 2016-03-26 01:10:15   \n",
       "2        C 2016-03-26 21:00:25  2016-03-26 21:00:25 2016-03-26 21:05:00   \n",
       "3        C 2016-03-26 22:30:25  2016-03-26 22:30:25 2016-03-26 22:34:28   \n",
       "4        C 2016-03-26 20:15:25  2016-03-26 20:15:25 2016-03-26 20:23:39   \n",
       "...    ...                 ...                  ...                 ...   \n",
       "1429     C 2016-04-10 13:15:28  2016-04-10 13:15:28 2016-04-10 13:11:36   \n",
       "1430     C 2016-04-10 10:45:28  2016-04-10 10:45:28 2016-04-10 10:40:56   \n",
       "1431     C 2016-04-10 06:15:28  2016-04-10 06:15:28 2016-04-10 06:11:37   \n",
       "1432     C 2016-04-10 17:00:28  2016-04-10 17:00:28 2016-04-10 16:56:54   \n",
       "1433     C 2016-04-10 20:15:25  2016-04-10 20:15:25 2016-04-10 20:18:21   \n",
       "\n",
       "      minutes_late day_of_week time_of_day am_pm  \n",
       "0        -4.400000    Saturday          06    AM  \n",
       "1         4.833333    Saturday          01    AM  \n",
       "2         4.583333    Saturday          21    PM  \n",
       "3         4.050000    Saturday          22    PM  \n",
       "4         8.233333    Saturday          20    PM  \n",
       "...            ...         ...         ...   ...  \n",
       "1429     -3.866667      Sunday          13    PM  \n",
       "1430     -4.533333      Sunday          10    AM  \n",
       "1431     -3.850000      Sunday          06    AM  \n",
       "1432     -3.566667      Sunday          16    PM  \n",
       "1433      2.933333      Sunday          20    PM  \n",
       "\n",
       "[1434 rows x 8 columns]"
      ]
     },
     "execution_count": 24,
     "metadata": {},
     "output_type": "execute_result"
    }
   ],
   "source": [
    "bus_times"
   ]
  },
  {
   "cell_type": "code",
   "execution_count": 35,
   "id": "22d490d8",
   "metadata": {},
   "outputs": [
    {
     "data": {
      "text/plain": [
       "<Axes: xlabel='day_of_week', ylabel='minutes_late'>"
      ]
     },
     "execution_count": 35,
     "metadata": {},
     "output_type": "execute_result"
    },
    {
     "data": {
      "image/png": "[encoded data removed]",
      "text/plain": [
       "<Figure size 1200x600 with 1 Axes>"
      ]
     },
     "metadata": {},
     "output_type": "display_data"
    }
   ],
   "source": [
    "fig, ax  = plt.subplots(1, figsize=(12,6))\n",
    "sns.barplot(bus_times,x='day_of_week',y='minutes_late', ax=ax)"
   ]
  },
  {
   "cell_type": "markdown",
   "id": "1b4ecf5a",
   "metadata": {},
   "source": [
    "Group the dataset into : \n",
    "    Late, On time and early"
   ]
  },
  {
   "cell_type": "code",
   "execution_count": null,
   "id": "8cb7f75e",
   "metadata": {},
   "outputs": [],
   "source": [
    "bus_times['arrival_group'] = bus_times"
   ]
  }
 ],
 "metadata": {
  "kernelspec": {
   "display_name": "Python 3 (ipykernel)",
   "language": "python",
   "name": "python3"
  },
  "language_info": {
   "codemirror_mode": {
    "name": "ipython",
    "version": 3
   },
   "file_extension": ".py",
   "mimetype": "text/x-python",
   "name": "python",
   "nbconvert_exporter": "python",
   "pygments_lexer": "ipython3",
   "version": "3.11.5"
  }
 },
 "nbformat": 4,
 "nbformat_minor": 5
}
