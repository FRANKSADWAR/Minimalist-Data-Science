{
 "cells": [
  {
   "cell_type": "markdown",
   "id": "371d1d41",
   "metadata": {},
   "source": [
    "## The Urn Model"
   ]
  },
  {
   "cell_type": "markdown",
   "id": "e371d783",
   "metadata": {},
   "source": [
    "Was developed was Jacob Bernoulli to model the process of selecting items from a population.\n",
    "\n",
    "To set up an urn model, we first need to decide on: \n",
    "    \n",
    "- The number of marbles in the urn\n",
    "- The color (or label) on each marble\n",
    "- The number of marbles to darw from the urn\n",
    "- The drawing / sampling process (with replacement or without replacement)"
   ]
  },
  {
   "cell_type": "markdown",
   "id": "968f8aba",
   "metadata": {},
   "source": [
    "We can simulate the draw of two marbles from the urn without replacement."
   ]
  },
  {
   "cell_type": "code",
   "execution_count": 8,
   "id": "44152d09",
   "metadata": {},
   "outputs": [
    {
     "name": "stdout",
     "output_type": "stream",
     "text": [
      "Sample 1:  ['w' 'w']\n",
      "Sample 2:  ['b' 'b']\n"
     ]
    }
   ],
   "source": [
    "import numpy as np\n",
    "urn = [\"b\",\"b\",\"b\",\"w\",\"w\"]\n",
    "\n",
    "print(\"Sample 1: \",np.random.choice(urn, size=2, replace=False))\n",
    "print(\"Sample 2: \", np.random.choice(urn, size = 2, replace=False))"
   ]
  },
  {
   "cell_type": "markdown",
   "id": "aac95eea",
   "metadata": {},
   "source": [
    "#### Questions: "
   ]
  },
  {
   "cell_type": "markdown",
   "id": "313ef1a3",
   "metadata": {},
   "source": [
    "- What is the chance that our sample contais marbles of only one color ?\n",
    "- Does the chance change if we return each marble after slecting it ?\n",
    "- What if we changed the number of marbles in the urn ?\n",
    "- What if we draw more marbles from the urn ?\n",
    "- What if we repat the process many times ?"
   ]
  },
  {
   "cell_type": "markdown",
   "id": "466f7de1",
   "metadata": {},
   "source": [
    "This way of simulation can be easily applicable to the real world problems easily. "
   ]
  },
  {
   "cell_type": "markdown",
   "id": "1b475c4a",
   "metadata": {},
   "source": [
    "For example, we can use simulation to easily estimate the fraction of samples where both marbles that we draw match in color."
   ]
  },
  {
   "cell_type": "code",
   "execution_count": 12,
   "id": "1983d308",
   "metadata": {},
   "outputs": [
    {
     "name": "stdout",
     "output_type": "stream",
     "text": [
      "Proportion of samples with matching marbles : 0.4004\n"
     ]
    }
   ],
   "source": [
    "n = 10000\n",
    "samples = [np.random.choice(urn, size=2, replace=False) for _ in range(n)]\n",
    "is_matching = [marble1 == marble2 for marble1, marble2 in samples]\n",
    "\n",
    "print(f\"Proportion of samples with matching marbles : {np.mean(is_matching)}\")"
   ]
  },
  {
   "cell_type": "markdown",
   "id": "ff3e5da9",
   "metadata": {},
   "source": [
    "The urn model, where we draw samples without replacement is what is known as the simple random sampling."
   ]
  },
  {
   "cell_type": "code",
   "execution_count": 15,
   "id": "449895ba",
   "metadata": {},
   "outputs": [
    {
     "name": "stdout",
     "output_type": "stream",
     "text": [
      "['ABC', 'ABD', 'ABE', 'ABF', 'ABG', 'ACD', 'ACE', 'ACF', 'ACG', 'ADE', 'ADF', 'ADG', 'AEF', 'AEG', 'AFG', 'BCD', 'BCE', 'BCF', 'BCG', 'BDE', 'BDF', 'BDG', 'BEF', 'BEG', 'BFG', 'CDE', 'CDF', 'CDG', 'CEF', 'CEG', 'CFG', 'DEF', 'DEG', 'DFG', 'EFG']\n",
      "Number of samples: 35\n"
     ]
    }
   ],
   "source": [
    "from itertools import combinations, permutations\n",
    "\n",
    "all_samples = [\"\".join(sample) for sample in combinations(\"ABCDEFG\",3)]\n",
    "print(all_samples)\n",
    "\n",
    "print(\"Number of samples:\", len(all_samples))"
   ]
  },
  {
   "cell_type": "code",
   "execution_count": 16,
   "id": "bed7e46b",
   "metadata": {},
   "outputs": [
    {
     "name": "stdout",
     "output_type": "stream",
     "text": [
      "['ABC', 'ACB', 'BAC', 'BCA', 'CAB', 'CBA']\n"
     ]
    }
   ],
   "source": [
    "print([\"\".join(sample) for sample in permutations(\"ABC\")])"
   ]
  },
  {
   "cell_type": "code",
   "execution_count": null,
   "id": "86f8a384",
   "metadata": {},
   "outputs": [],
   "source": []
  }
 ],
 "metadata": {
  "kernelspec": {
   "display_name": "Python 3 (ipykernel)",
   "language": "python",
   "name": "python3"
  },
  "language_info": {
   "codemirror_mode": {
    "name": "ipython",
    "version": 3
   },
   "file_extension": ".py",
   "mimetype": "text/x-python",
   "name": "python",
   "nbconvert_exporter": "python",
   "pygments_lexer": "ipython3",
   "version": "3.11.5"
  }
 },
 "nbformat": 4,
 "nbformat_minor": 5
}
